{
  "cells": [
    {
      "cell_type": "code",
      "execution_count": 1,
      "metadata": {
        "id": "2Ms3Lrprac1T"
      },
      "outputs": [],
      "source": [
        "import pandas as pd\n",
        "import numpy as np\n",
        "from sklearn.model_selection import train_test_split\n",
        "from sklearn.preprocessing import StandardScaler\n",
        "from sklearn.svm import SVC\n",
        "from sklearn.metrics import confusion_matrix\n",
        "from sklearn.metrics import f1_score, accuracy_score, recall_score, precision_score\n",
        "from sklearn.feature_selection import SelectKBest, chi2\n",
        "from sklearn.feature_selection import VarianceThreshold\n",
        "from sklearn.tree import DecisionTreeClassifier\n",
        "from imblearn.over_sampling import SMOTE\n",
        "from collections import Counter\n",
        "from sklearn.metrics import f1_score\n",
        "from sklearn.metrics import accuracy_score\n",
        "from sklearn.feature_selection import SelectKBest\n",
        "from sklearn.feature_selection import chi2\n",
        "from sklearn.feature_selection import VarianceThreshold\n",
        "import matplotlib.pyplot as plt\n",
        "import seaborn as sns\n",
        "%matplotlib inline"
      ]
    },
    {
      "cell_type": "code",
      "execution_count": 2,
      "metadata": {
        "colab": {
          "base_uri": "https://localhost:8080/"
        },
        "id": "-TSUqFyBah2t",
        "outputId": "32cb06e1-8094-4bb6-c069-06e887d2a7d7"
      },
      "outputs": [
        {
          "name": "stdout",
          "output_type": "stream",
          "text": [
            "     Pregnancies  Glucose  BloodPressure  SkinThickness  Insulin   BMI  \\\n",
            "0              6      148             72             35        0  33.6   \n",
            "1              1       85             66             29        0  26.6   \n",
            "2              8      183             64              0        0  23.3   \n",
            "3              1       89             66             23       94  28.1   \n",
            "4              0      137             40             35      168  43.1   \n",
            "..           ...      ...            ...            ...      ...   ...   \n",
            "763           10      101             76             48      180  32.9   \n",
            "764            2      122             70             27        0  36.8   \n",
            "765            5      121             72             23      112  26.2   \n",
            "766            1      126             60              0        0  30.1   \n",
            "767            1       93             70             31        0  30.4   \n",
            "\n",
            "     DiabetesPedigreeFunction  Age  Outcome  \n",
            "0                       0.627   50        1  \n",
            "1                       0.351   31        0  \n",
            "2                       0.672   32        1  \n",
            "3                       0.167   21        0  \n",
            "4                       2.288   33        1  \n",
            "..                        ...  ...      ...  \n",
            "763                     0.171   63        0  \n",
            "764                     0.340   27        0  \n",
            "765                     0.245   30        0  \n",
            "766                     0.349   47        1  \n",
            "767                     0.315   23        0  \n",
            "\n",
            "[768 rows x 9 columns]\n"
          ]
        }
      ],
      "source": [
        "# Path to your CSV file\n",
        "file_path = 'diabetes.csv'\n",
        "\n",
        "# Read the CSV file into a DataFrame\n",
        "pima = pd.read_csv(file_path)\n",
        "\n",
        "# Display the contents of the DataFrame\n",
        "print(pima)"
      ]
    },
    {
      "cell_type": "code",
      "execution_count": 3,
      "metadata": {
        "colab": {
          "base_uri": "https://localhost:8080/"
        },
        "id": "ZqAgwrtUanvj",
        "outputId": "58d91e0e-8680-41c8-bb99-bfb1a0ad5c8d"
      },
      "outputs": [
        {
          "name": "stdout",
          "output_type": "stream",
          "text": [
            "Features:\n",
            " Index(['Pregnancies', 'Glucose', 'BloodPressure', 'SkinThickness', 'Insulin',\n",
            "       'BMI', 'DiabetesPedigreeFunction', 'Age', 'Outcome'],\n",
            "      dtype='object')\n"
          ]
        }
      ],
      "source": [
        "# Display features\n",
        "print(\"Features:\\n\", pima.columns)"
      ]
    },
    {
      "cell_type": "code",
      "execution_count": 4,
      "metadata": {
        "colab": {
          "base_uri": "https://localhost:8080/"
        },
        "id": "nOufF7CwihvF",
        "outputId": "fd737167-ee57-46f6-a8d4-98065682af8f"
      },
      "outputs": [
        {
          "name": "stdout",
          "output_type": "stream",
          "text": [
            "Defaulting to user installation because normal site-packages is not writeable\n",
            "Requirement already satisfied: imbalanced-learn in c:\\users\\hanis\\appdata\\roaming\\python\\python311\\site-packages (0.12.2)\n",
            "Requirement already satisfied: numpy>=1.17.3 in c:\\program files\\python311\\lib\\site-packages (from imbalanced-learn) (1.23.5)\n",
            "Requirement already satisfied: scipy>=1.5.0 in c:\\users\\hanis\\appdata\\roaming\\python\\python311\\site-packages (from imbalanced-learn) (1.9.3)\n",
            "Requirement already satisfied: scikit-learn>=1.0.2 in c:\\users\\hanis\\appdata\\roaming\\python\\python311\\site-packages (from imbalanced-learn) (1.2.0)\n",
            "Requirement already satisfied: joblib>=1.1.1 in c:\\users\\hanis\\appdata\\roaming\\python\\python311\\site-packages (from imbalanced-learn) (1.2.0)\n",
            "Requirement already satisfied: threadpoolctl>=2.0.0 in c:\\users\\hanis\\appdata\\roaming\\python\\python311\\site-packages (from imbalanced-learn) (3.1.0)\n",
            "Note: you may need to restart the kernel to use updated packages.\n"
          ]
        },
        {
          "name": "stderr",
          "output_type": "stream",
          "text": [
            "\n",
            "[notice] A new release of pip is available: 24.0 -> 24.1.1\n",
            "[notice] To update, run: python.exe -m pip install --upgrade pip\n"
          ]
        }
      ],
      "source": [
        "pip install imbalanced-learn"
      ]
    },
    {
      "cell_type": "markdown",
      "metadata": {
        "id": "JAjXz020j-3e"
      },
      "source": [
        "## Data Sampling"
      ]
    },
    {
      "cell_type": "code",
      "execution_count": 5,
      "metadata": {
        "colab": {
          "base_uri": "https://localhost:8080/"
        },
        "id": "XPkrIXpTim7r",
        "outputId": "27aa4e37-4962-4608-bf0e-3c8c8a3c7b9b"
      },
      "outputs": [
        {
          "name": "stdout",
          "output_type": "stream",
          "text": [
            "Class distribution before SMOTE: Counter({0: 500, 1: 268})\n",
            "Class distribution after SMOTE: Counter({1: 500, 0: 500})\n"
          ]
        }
      ],
      "source": [
        "from imblearn.over_sampling import SMOTE\n",
        "from collections import Counter\n",
        "\n",
        "# Display the class distribution before SMOTE\n",
        "print(\"Class distribution before SMOTE:\", Counter(pima['Outcome']))\n",
        "\n",
        "# Separate the features and the target variable\n",
        "X = pima.drop('Outcome', axis=1)\n",
        "y = pima['Outcome']\n",
        "\n",
        "# Apply SMOTE to balance the dataset\n",
        "smote = SMOTE(random_state=42)\n",
        "X_smote, y_smote = smote.fit_resample(X, y)\n",
        "\n",
        "# Display the class distribution after SMOTE\n",
        "print(\"Class distribution after SMOTE:\", Counter(y_smote))"
      ]
    },
    {
      "cell_type": "markdown",
      "metadata": {
        "id": "onhE1588kDqk"
      },
      "source": [
        "## Missing Values"
      ]
    },
    {
      "cell_type": "code",
      "execution_count": 6,
      "metadata": {
        "colab": {
          "base_uri": "https://localhost:8080/"
        },
        "id": "yzgxTSp-j9UO",
        "outputId": "386043d4-3aa5-4793-8ea5-6d15b3b0f0e2"
      },
      "outputs": [
        {
          "name": "stdout",
          "output_type": "stream",
          "text": [
            "Missing values in each column:\n",
            " Pregnancies                 0\n",
            "Glucose                     0\n",
            "BloodPressure               0\n",
            "SkinThickness               0\n",
            "Insulin                     0\n",
            "BMI                         0\n",
            "DiabetesPedigreeFunction    0\n",
            "Age                         0\n",
            "Outcome                     0\n",
            "dtype: int64\n"
          ]
        }
      ],
      "source": [
        "# Check for missing values in the dataset\n",
        "missing_values = pima.isnull().sum()\n",
        "print(\"Missing values in each column:\\n\", missing_values)"
      ]
    },
    {
      "cell_type": "code",
      "execution_count": 7,
      "metadata": {
        "colab": {
          "base_uri": "https://localhost:8080/"
        },
        "id": "k7v7rJSflkR6",
        "outputId": "4f6e5c81-ad20-4965-c65d-027cbe806765"
      },
      "outputs": [
        {
          "name": "stdout",
          "output_type": "stream",
          "text": [
            "\n",
            "Missing values in each column after replacing 0 with NaN:\n",
            "Pregnancies                   0\n",
            "Glucose                       5\n",
            "BloodPressure                51\n",
            "SkinThickness               295\n",
            "Insulin                     488\n",
            "BMI                          11\n",
            "DiabetesPedigreeFunction      0\n",
            "Age                           0\n",
            "dtype: int64\n",
            "\n",
            "Total missing values in the updated resampled dataset: 850\n",
            "\n",
            "Columns with missing values in the updated resampled dataset:\n",
            "Glucose            5\n",
            "BloodPressure     51\n",
            "SkinThickness    295\n",
            "Insulin          488\n",
            "BMI               11\n",
            "dtype: int64\n",
            "Missing values in each column after replacement:\n",
            " Pregnancies                 0\n",
            "Glucose                     0\n",
            "BloodPressure               0\n",
            "SkinThickness               0\n",
            "Insulin                     0\n",
            "BMI                         0\n",
            "DiabetesPedigreeFunction    0\n",
            "Age                         0\n",
            "dtype: int64\n"
          ]
        }
      ],
      "source": [
        "# Replace zero values with NaN for the specified columns\n",
        "columns_to_replace = ['Glucose', 'BloodPressure', 'SkinThickness', 'Insulin', 'BMI']\n",
        "X_smote[columns_to_replace] = X_smote[columns_to_replace].replace(0, np.nan)\n",
        "\n",
        "# Check for missing values again in the resampled dataset after replacing 0 with NaN\n",
        "missing_values_resampled_updated = X_smote.isnull().sum()\n",
        "print(\"\\nMissing values in each column after replacing 0 with NaN:\")\n",
        "print(missing_values_resampled_updated)\n",
        "\n",
        "# Display a summary of the total missing values in the updated resampled dataset\n",
        "total_missing_resampled_updated = missing_values_resampled_updated.sum()\n",
        "print(f\"\\nTotal missing values in the updated resampled dataset: {total_missing_resampled_updated}\")\n",
        "\n",
        "# Optionally, display columns with missing values only in the updated resampled dataset\n",
        "missing_values_only_resampled_updated = missing_values_resampled_updated[missing_values_resampled_updated > 0]\n",
        "if not missing_values_only_resampled_updated.empty:\n",
        "    print(\"\\nColumns with missing values in the updated resampled dataset:\")\n",
        "    print(missing_values_only_resampled_updated)\n",
        "else:\n",
        "    print(\"\\nNo missing values in the updated resampled dataset.\")\n",
        "\n",
        "# Calculate the mean of each column\n",
        "mean_values = X_smote.mean()\n",
        "\n",
        "# Replace NaN values with the mean of each column\n",
        "X_smote.fillna(mean_values, inplace=True)\n",
        "\n",
        "# Check again for missing values in the dataset\n",
        "missing_values_after = X_smote.isnull().sum()\n",
        "print(\"Missing values in each column after replacement:\\n\", missing_values_after)"
      ]
    },
    {
      "cell_type": "code",
      "execution_count": 8,
      "metadata": {
        "colab": {
          "base_uri": "https://localhost:8080/"
        },
        "id": "547-UL8DmdBK",
        "outputId": "16828f2e-68b0-42cb-a841-606b047933c1"
      },
      "outputs": [
        {
          "name": "stdout",
          "output_type": "stream",
          "text": [
            "\n",
            "Dataset after data cleaning:\n",
            "     Pregnancies  Glucose  BloodPressure  SkinThickness     Insulin  \\\n",
            "0              6    148.0           72.0      35.000000  165.414062   \n",
            "1              1     85.0           66.0      29.000000  165.414062   \n",
            "2              8    183.0           64.0      29.680851  165.414062   \n",
            "3              1     89.0           66.0      23.000000   94.000000   \n",
            "4              0    137.0           40.0      35.000000  168.000000   \n",
            "..           ...      ...            ...            ...         ...   \n",
            "995            5    164.0           64.0      29.680851  165.414062   \n",
            "996            5    107.0           69.0      31.000000  165.414062   \n",
            "997            4    171.0           83.0      27.000000  154.000000   \n",
            "998            8    111.0           81.0      32.000000  175.000000   \n",
            "999            4    144.0           79.0      32.000000  165.414062   \n",
            "\n",
            "           BMI  DiabetesPedigreeFunction  Age  \n",
            "0    33.600000                  0.627000   50  \n",
            "1    26.600000                  0.351000   31  \n",
            "2    23.300000                  0.672000   32  \n",
            "3    28.100000                  0.167000   21  \n",
            "4    43.100000                  2.288000   33  \n",
            "..         ...                       ...  ...  \n",
            "995  31.906102                  0.233595   39  \n",
            "996  35.752773                  0.278394   28  \n",
            "997  33.300000                  1.196333   51  \n",
            "998  34.173097                  0.284266   35  \n",
            "999  37.428351                  0.569965   39  \n",
            "\n",
            "[1000 rows x 8 columns]\n"
          ]
        }
      ],
      "source": [
        "# Print the current dataset after data cleaning\n",
        "print(\"\\nDataset after data cleaning:\")\n",
        "print(X_smote)"
      ]
    },
    {
      "cell_type": "markdown",
      "metadata": {
        "id": "Kl9IVSvxnDWN"
      },
      "source": [
        "## Feature Selection"
      ]
    },
    {
      "cell_type": "code",
      "execution_count": 11,
      "metadata": {},
      "outputs": [
        {
          "name": "stdout",
          "output_type": "stream",
          "text": [
            "Selected features by RFE:\n",
            " Index(['Pregnancies', 'Glucose', 'SkinThickness', 'BMI',\n",
            "       'DiabetesPedigreeFunction', 'Age'],\n",
            "      dtype='object')\n",
            "\n",
            "SVM Model Performance:\n",
            "Accuracy: 0.76\n",
            "Recall: 0.78\n",
            "Precision: 0.75\n",
            "F1-Score: 0.76\n",
            "\n",
            "Decision Tree Model Performance:\n",
            "Accuracy: 0.73\n",
            "Recall: 0.74\n",
            "Precision: 0.74\n",
            "F1-Score: 0.74\n"
          ]
        }
      ],
      "source": [
        "from sklearn.feature_selection import RFE\n",
        "from sklearn.model_selection import train_test_split\n",
        "from sklearn.svm import SVC\n",
        "from sklearn.tree import DecisionTreeClassifier\n",
        "from sklearn.metrics import accuracy_score, recall_score, precision_score, f1_score\n",
        "\n",
        "# Feature selection using RFE\n",
        "svc = SVC(kernel='linear')\n",
        "rfe = RFE(estimator=svc, n_features_to_select=6, step=1)\n",
        "rfe.fit(X_smote, y_smote)\n",
        "\n",
        "# Print the features that RFE chooses\n",
        "selected_features = X_smote.columns[rfe.support_]\n",
        "print(\"Selected features by RFE:\\n\", selected_features)\n",
        "\n",
        "# Split the data into training and testing sets\n",
        "X_train, X_test, y_train, y_test = train_test_split(X_smote[selected_features], y_smote, test_size=0.2, random_state=42)\n",
        "\n",
        "# Create and train an SVM model\n",
        "svm_model = SVC(kernel='linear', C=1)\n",
        "svm_model.fit(X_train, y_train)\n",
        "\n",
        "# Predict using the SVM model\n",
        "y_pred_svm = svm_model.predict(X_test)\n",
        "\n",
        "# Calculate and print the performance metrics for SVM\n",
        "accuracy_svm = accuracy_score(y_test, y_pred_svm)\n",
        "recall_svm = recall_score(y_test, y_pred_svm)\n",
        "precision_svm = precision_score(y_test, y_pred_svm)\n",
        "f1_svm = f1_score(y_test, y_pred_svm)\n",
        "\n",
        "print(\"\\nSVM Model Performance:\")\n",
        "print(f\"Accuracy: {accuracy_svm:.2f}\")\n",
        "print(f\"Recall: {recall_svm:.2f}\")\n",
        "print(f\"Precision: {precision_svm:.2f}\")\n",
        "print(f\"F1-Score: {f1_svm:.2f}\")\n",
        "\n",
        "# Create and train a Decision Tree model\n",
        "dt_model = DecisionTreeClassifier(criterion='gini')\n",
        "dt_model.fit(X_train, y_train)\n",
        "\n",
        "# Predict using the Decision Tree model\n",
        "y_pred_dt = dt_model.predict(X_test)\n",
        "\n",
        "# Calculate and print the performance metrics for Decision Tree\n",
        "accuracy_dt = accuracy_score(y_test, y_pred_dt)\n",
        "recall_dt = recall_score(y_test, y_pred_dt)\n",
        "precision_dt = precision_score(y_test, y_pred_dt)\n",
        "f1_dt = f1_score(y_test, y_pred_dt)\n",
        "\n",
        "print(\"\\nDecision Tree Model Performance:\")\n",
        "print(f\"Accuracy: {accuracy_dt:.2f}\")\n",
        "print(f\"Recall: {recall_dt:.2f}\")\n",
        "print(f\"Precision: {precision_dt:.2f}\")\n",
        "print(f\"F1-Score: {f1_dt:.2f}\")\n"
      ]
    }
  ],
  "metadata": {
    "colab": {
      "provenance": []
    },
    "kernelspec": {
      "display_name": "Python 3",
      "name": "python3"
    },
    "language_info": {
      "codemirror_mode": {
        "name": "ipython",
        "version": 3
      },
      "file_extension": ".py",
      "mimetype": "text/x-python",
      "name": "python",
      "nbconvert_exporter": "python",
      "pygments_lexer": "ipython3",
      "version": "3.11.0"
    }
  },
  "nbformat": 4,
  "nbformat_minor": 0
}
